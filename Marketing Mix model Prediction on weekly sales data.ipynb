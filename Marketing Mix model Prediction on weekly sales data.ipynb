{
 "cells": [
  {
   "cell_type": "code",
   "execution_count": 17,
   "metadata": {},
   "outputs": [],
   "source": [
    "import pandas as pd\n",
    "import numpy as np"
   ]
  },
  {
   "cell_type": "code",
   "execution_count": 19,
   "metadata": {},
   "outputs": [],
   "source": [
    "data=pd.read_csv('D:/python learning\\marketmixmodel/Econometric Model for Pie Sales - Raw Data.csv')"
   ]
  },
  {
   "cell_type": "code",
   "execution_count": 20,
   "metadata": {},
   "outputs": [
    {
     "data": {
      "text/html": [
       "<div>\n",
       "<style scoped>\n",
       "    .dataframe tbody tr th:only-of-type {\n",
       "        vertical-align: middle;\n",
       "    }\n",
       "\n",
       "    .dataframe tbody tr th {\n",
       "        vertical-align: top;\n",
       "    }\n",
       "\n",
       "    .dataframe thead th {\n",
       "        text-align: right;\n",
       "    }\n",
       "</style>\n",
       "<table border=\"1\" class=\"dataframe\">\n",
       "  <thead>\n",
       "    <tr style=\"text-align: right;\">\n",
       "      <th></th>\n",
       "      <th>Time</th>\n",
       "      <th>Pie Sales ($1,000s)</th>\n",
       "      <th>Price ($)</th>\n",
       "      <th>Advertising ($1,000s)</th>\n",
       "      <th>Holiday</th>\n",
       "    </tr>\n",
       "  </thead>\n",
       "  <tbody>\n",
       "    <tr>\n",
       "      <th>0</th>\n",
       "      <td>Week 1</td>\n",
       "      <td>350</td>\n",
       "      <td>5.5</td>\n",
       "      <td>3.3</td>\n",
       "      <td>0</td>\n",
       "    </tr>\n",
       "    <tr>\n",
       "      <th>1</th>\n",
       "      <td>Week 2</td>\n",
       "      <td>460</td>\n",
       "      <td>7.5</td>\n",
       "      <td>3.3</td>\n",
       "      <td>1</td>\n",
       "    </tr>\n",
       "    <tr>\n",
       "      <th>2</th>\n",
       "      <td>Week 3</td>\n",
       "      <td>350</td>\n",
       "      <td>8.0</td>\n",
       "      <td>3.0</td>\n",
       "      <td>0</td>\n",
       "    </tr>\n",
       "    <tr>\n",
       "      <th>3</th>\n",
       "      <td>Week 4</td>\n",
       "      <td>430</td>\n",
       "      <td>8.0</td>\n",
       "      <td>4.5</td>\n",
       "      <td>1</td>\n",
       "    </tr>\n",
       "    <tr>\n",
       "      <th>4</th>\n",
       "      <td>Week 5</td>\n",
       "      <td>350</td>\n",
       "      <td>6.8</td>\n",
       "      <td>3.0</td>\n",
       "      <td>0</td>\n",
       "    </tr>\n",
       "    <tr>\n",
       "      <th>5</th>\n",
       "      <td>Week 6</td>\n",
       "      <td>380</td>\n",
       "      <td>7.5</td>\n",
       "      <td>4.0</td>\n",
       "      <td>0</td>\n",
       "    </tr>\n",
       "    <tr>\n",
       "      <th>6</th>\n",
       "      <td>Week 7</td>\n",
       "      <td>430</td>\n",
       "      <td>4.5</td>\n",
       "      <td>3.0</td>\n",
       "      <td>0</td>\n",
       "    </tr>\n",
       "    <tr>\n",
       "      <th>7</th>\n",
       "      <td>Week 8</td>\n",
       "      <td>470</td>\n",
       "      <td>6.4</td>\n",
       "      <td>3.7</td>\n",
       "      <td>1</td>\n",
       "    </tr>\n",
       "    <tr>\n",
       "      <th>8</th>\n",
       "      <td>Week 9</td>\n",
       "      <td>450</td>\n",
       "      <td>7.0</td>\n",
       "      <td>3.5</td>\n",
       "      <td>1</td>\n",
       "    </tr>\n",
       "    <tr>\n",
       "      <th>9</th>\n",
       "      <td>Week 10</td>\n",
       "      <td>490</td>\n",
       "      <td>5.0</td>\n",
       "      <td>4.0</td>\n",
       "      <td>1</td>\n",
       "    </tr>\n",
       "    <tr>\n",
       "      <th>10</th>\n",
       "      <td>Week 11</td>\n",
       "      <td>340</td>\n",
       "      <td>7.2</td>\n",
       "      <td>3.5</td>\n",
       "      <td>0</td>\n",
       "    </tr>\n",
       "    <tr>\n",
       "      <th>11</th>\n",
       "      <td>Week 12</td>\n",
       "      <td>300</td>\n",
       "      <td>7.9</td>\n",
       "      <td>3.2</td>\n",
       "      <td>0</td>\n",
       "    </tr>\n",
       "    <tr>\n",
       "      <th>12</th>\n",
       "      <td>Week 13</td>\n",
       "      <td>440</td>\n",
       "      <td>5.9</td>\n",
       "      <td>4.0</td>\n",
       "      <td>1</td>\n",
       "    </tr>\n",
       "    <tr>\n",
       "      <th>13</th>\n",
       "      <td>Week 14</td>\n",
       "      <td>450</td>\n",
       "      <td>5.0</td>\n",
       "      <td>3.5</td>\n",
       "      <td>1</td>\n",
       "    </tr>\n",
       "    <tr>\n",
       "      <th>14</th>\n",
       "      <td>Week 15</td>\n",
       "      <td>300</td>\n",
       "      <td>7.0</td>\n",
       "      <td>2.7</td>\n",
       "      <td>0</td>\n",
       "    </tr>\n",
       "  </tbody>\n",
       "</table>\n",
       "</div>"
      ],
      "text/plain": [
       "       Time  Pie Sales ($1,000s)  Price ($)  Advertising ($1,000s)  Holiday\n",
       "0    Week 1                  350        5.5                    3.3        0\n",
       "1    Week 2                  460        7.5                    3.3        1\n",
       "2    Week 3                  350        8.0                    3.0        0\n",
       "3    Week 4                  430        8.0                    4.5        1\n",
       "4    Week 5                  350        6.8                    3.0        0\n",
       "5    Week 6                  380        7.5                    4.0        0\n",
       "6    Week 7                  430        4.5                    3.0        0\n",
       "7    Week 8                  470        6.4                    3.7        1\n",
       "8    Week 9                  450        7.0                    3.5        1\n",
       "9   Week 10                  490        5.0                    4.0        1\n",
       "10  Week 11                  340        7.2                    3.5        0\n",
       "11  Week 12                  300        7.9                    3.2        0\n",
       "12  Week 13                  440        5.9                    4.0        1\n",
       "13  Week 14                  450        5.0                    3.5        1\n",
       "14  Week 15                  300        7.0                    2.7        0"
      ]
     },
     "execution_count": 20,
     "metadata": {},
     "output_type": "execute_result"
    }
   ],
   "source": [
    "data"
   ]
  },
  {
   "cell_type": "code",
   "execution_count": 21,
   "metadata": {},
   "outputs": [
    {
     "data": {
      "text/plain": [
       "Time                     0\n",
       "Pie Sales ($1,000s)      0\n",
       "Price ($)                0\n",
       "Advertising ($1,000s)    0\n",
       "Holiday                  0\n",
       "dtype: int64"
      ]
     },
     "execution_count": 21,
     "metadata": {},
     "output_type": "execute_result"
    }
   ],
   "source": [
    "data.isnull().sum()"
   ]
  },
  {
   "cell_type": "code",
   "execution_count": 24,
   "metadata": {},
   "outputs": [],
   "source": [
    "#Create a function to clean the data and add a constant\n",
    "\n",
    "def make_column_as_index(df:pd.DataFrame, column_label:str) -> None:\n",
    "    df.index = df[column_label]\n",
    "    df.drop(column_label, axis=1, inplace=True)\n",
    "    df.index.name = None\n",
    "\n",
    "def rename_column(df:pd.DataFrame, column_label:str, new_name:str) -> None:\n",
    "    df.rename(columns={column_label: new_name}, inplace=True)\n",
    "    \n",
    "def add_constant(df:pd.DataFrame) -> None:\n",
    "    df['constant'] = 1"
   ]
  },
  {
   "cell_type": "code",
   "execution_count": 25,
   "metadata": {},
   "outputs": [
    {
     "data": {
      "text/html": [
       "<div>\n",
       "<style scoped>\n",
       "    .dataframe tbody tr th:only-of-type {\n",
       "        vertical-align: middle;\n",
       "    }\n",
       "\n",
       "    .dataframe tbody tr th {\n",
       "        vertical-align: top;\n",
       "    }\n",
       "\n",
       "    .dataframe thead th {\n",
       "        text-align: right;\n",
       "    }\n",
       "</style>\n",
       "<table border=\"1\" class=\"dataframe\">\n",
       "  <thead>\n",
       "    <tr style=\"text-align: right;\">\n",
       "      <th></th>\n",
       "      <th>sales</th>\n",
       "      <th>price</th>\n",
       "      <th>ads</th>\n",
       "      <th>holiday</th>\n",
       "      <th>constant</th>\n",
       "    </tr>\n",
       "  </thead>\n",
       "  <tbody>\n",
       "    <tr>\n",
       "      <th>Week 1</th>\n",
       "      <td>350</td>\n",
       "      <td>5.5</td>\n",
       "      <td>3.3</td>\n",
       "      <td>0</td>\n",
       "      <td>1</td>\n",
       "    </tr>\n",
       "    <tr>\n",
       "      <th>Week 2</th>\n",
       "      <td>460</td>\n",
       "      <td>7.5</td>\n",
       "      <td>3.3</td>\n",
       "      <td>1</td>\n",
       "      <td>1</td>\n",
       "    </tr>\n",
       "    <tr>\n",
       "      <th>Week 3</th>\n",
       "      <td>350</td>\n",
       "      <td>8.0</td>\n",
       "      <td>3.0</td>\n",
       "      <td>0</td>\n",
       "      <td>1</td>\n",
       "    </tr>\n",
       "    <tr>\n",
       "      <th>Week 4</th>\n",
       "      <td>430</td>\n",
       "      <td>8.0</td>\n",
       "      <td>4.5</td>\n",
       "      <td>1</td>\n",
       "      <td>1</td>\n",
       "    </tr>\n",
       "    <tr>\n",
       "      <th>Week 5</th>\n",
       "      <td>350</td>\n",
       "      <td>6.8</td>\n",
       "      <td>3.0</td>\n",
       "      <td>0</td>\n",
       "      <td>1</td>\n",
       "    </tr>\n",
       "  </tbody>\n",
       "</table>\n",
       "</div>"
      ],
      "text/plain": [
       "        sales  price  ads  holiday  constant\n",
       "Week 1    350    5.5  3.3        0         1\n",
       "Week 2    460    7.5  3.3        1         1\n",
       "Week 3    350    8.0  3.0        0         1\n",
       "Week 4    430    8.0  4.5        1         1\n",
       "Week 5    350    6.8  3.0        0         1"
      ]
     },
     "execution_count": 25,
     "metadata": {},
     "output_type": "execute_result"
    }
   ],
   "source": [
    "#use the function to clean the data\n",
    "\n",
    "df = data.copy()\n",
    "\n",
    "make_column_as_index(df, 'Time')\n",
    "rename_column(df, 'Pie Sales ($1,000s)', 'sales')\n",
    "rename_column(df, 'Price ($)', 'price')\n",
    "rename_column(df, 'Advertising ($1,000s)', 'ads')\n",
    "rename_column(df, 'Holiday', 'holiday')\n",
    "\n",
    "add_constant(df)\n",
    "\n",
    "df.head()\n"
   ]
  },
  {
   "cell_type": "code",
   "execution_count": 38,
   "metadata": {},
   "outputs": [],
   "source": [
    "## Run Regression Model -- Define the regression and r2 calculate function\n",
    "\n",
    "from sklearn.feature_selection import f_regression, RFE\n",
    "from sklearn.linear_model import LinearRegression\n",
    "from typing import List, Tuple, Union\n",
    "\n",
    "def get_all_X_labels(df:pd.DataFrame, y_label:str, date_label:str=None) -> List[str]:\n",
    "    X_labels = list(df.columns)\n",
    "    X_labels.remove(y_label)\n",
    "    if date_label:\n",
    "        X_labels.remove(date_label)\n",
    "    \n",
    "    return X_labels"
   ]
  },
  {
   "cell_type": "code",
   "execution_count": 39,
   "metadata": {},
   "outputs": [],
   "source": [
    "from sklearn.model_selection import train_test_split\n",
    "from sklearn.linear_model import Ridge\n",
    "from typing import List, Tuple\n",
    "\n",
    "def run_regression(df:pd.DataFrame, y_label:str, X_labels:List[str]) -> Tuple[np.array, np.array, np.array, np.array]:\n",
    "    y_actual = df[y_label]\n",
    "    X_data = df[X_labels]\n",
    "\n",
    "    results = sm.OLS(y_actual, X_data).fit()\n",
    "\n",
    "    y_pred = results.predict(X_data)\n",
    "    coefficients = results.params.values\n",
    "    p_values = results.pvalues.values\n",
    "\n",
    "    return y_actual, y_pred, coefficients, p_values\n"
   ]
  },
  {
   "cell_type": "code",
   "execution_count": 37,
   "metadata": {},
   "outputs": [],
   "source": [
    "import statsmodels.api as sm\n",
    "\n",
    "from sklearn import metrics\n",
    "import statsmodels.stats.api as sms\n",
    "from statsmodels.compat import lzip\n",
    "from typing import List, Tuple, Union"
   ]
  },
  {
   "cell_type": "code",
   "execution_count": 40,
   "metadata": {},
   "outputs": [],
   "source": [
    "def calculate_r2(y_actual: Union[np.array, List[float], pd.Series], \n",
    "                 y_pred: Union[np.array, List[float], pd.Series]) -> float:\n",
    "    # r squared score\n",
    "    return round(metrics.r2_score(y_actual, y_pred),3)"
   ]
  },
  {
   "cell_type": "code",
   "execution_count": 41,
   "metadata": {},
   "outputs": [],
   "source": [
    "#Running model \n",
    "\n",
    "y_label = \"sales\"\n",
    "X_labels = get_all_X_labels(df, y_label)\n",
    "\n",
    "y_actual, y_pred, coefficients, p_values = run_regression(df, y_label, X_labels)\n",
    "\n",
    "r2 = calculate_r2(y_actual, y_pred)"
   ]
  },
  {
   "cell_type": "code",
   "execution_count": 46,
   "metadata": {},
   "outputs": [],
   "source": [
    "#Functions to display result\n",
    "\n",
    "from IPython.display import display\n",
    "\n",
    "import matplotlib.pyplot as plt"
   ]
  },
  {
   "cell_type": "code",
   "execution_count": 43,
   "metadata": {},
   "outputs": [],
   "source": [
    "def create_results_df(X_labels:List[str], coefficients:np.array, p_values:List[float]=None) -> pd.DataFrame:\n",
    "    if p_values is None: # ml algo doesn't give p_values\n",
    "        results_df = pd.DataFrame({'coefficient': coefficients}, index=X_labels)\n",
    "    else:\n",
    "        results_df = pd.DataFrame({'coefficient': coefficients, 'p_value': p_values}, index=X_labels)\n",
    "\n",
    "    return results_df"
   ]
  },
  {
   "cell_type": "code",
   "execution_count": 51,
   "metadata": {},
   "outputs": [],
   "source": [
    "def display_accuracy_chart(y_actual:Union[np.array, List[float], pd.Series], \n",
    "                           y_pred:Union[np.array, List[float], pd.Series], \n",
    "                           y_label:str=None, \n",
    "                           accuracy:Tuple[str, str]=None) -> None:\n",
    "    # set up figure and subplots\n",
    "    fig, ax = plt.subplots(figsize=(14,8), nrows=2, ncols=1, gridspec_kw={'height_ratios': [3, 1]})\n",
    "    \n",
    "    # create plot df\n",
    "    plot_df = pd.DataFrame()\n",
    "    plot_df['Actual'] = y_actual\n",
    "    plot_df['Predicted'] = y_pred\n",
    "    plot_df['Error'] = (y_pred - y_actual) / y_actual * 100\n",
    "    \n",
    "    # plot actual vs predicted on grid\n",
    "    if y_label:\n",
    "        plot_df[['Actual', 'Predicted']].plot(ax=ax[0], ylabel=y_label)\n",
    "    else:\n",
    "        plot_df[['Actual', 'Predicted']].plot(ax=ax[0])\n",
    "\n",
    "    if accuracy:\n",
    "        ax[0].annotate(f'{accuracy[0]} = {accuracy[1]}', xy=(0.05, 0.92), xycoords='axes fraction')\n",
    "\n",
    "    ax[0].legend(loc=\"upper center\", bbox_to_anchor=(0.5, 1.12), ncol=2)\n",
    "    ax[0].grid(True, which='both')\n",
    "    \n",
    "    # plot error on grid\n",
    "    plot_df[['Error']].plot(ax=ax[1], color='red')\n",
    "    ax[1].grid(True, which='both')\n",
    "    ax[1].legend(loc=\"upper center\", bbox_to_anchor=(0.5, 1.35), ncol=2)\n",
    "    fmt = '%.0f%%' # Format you want the ticks, e.g. '40%'\n",
    "    \n",
    "   \n",
    "    \n",
    "    # show plots\n",
    "    fig.autofmt_xdate(rotation=45)\n",
    "    plt.gcf().suptitle(\"Actual vs Predicted\", fontsize=20)\n",
    "    \n",
    "    plt.show()"
   ]
  },
  {
   "cell_type": "code",
   "execution_count": 52,
   "metadata": {},
   "outputs": [
    {
     "data": {
      "text/html": [
       "<div>\n",
       "<style scoped>\n",
       "    .dataframe tbody tr th:only-of-type {\n",
       "        vertical-align: middle;\n",
       "    }\n",
       "\n",
       "    .dataframe tbody tr th {\n",
       "        vertical-align: top;\n",
       "    }\n",
       "\n",
       "    .dataframe thead th {\n",
       "        text-align: right;\n",
       "    }\n",
       "</style>\n",
       "<table border=\"1\" class=\"dataframe\">\n",
       "  <thead>\n",
       "    <tr style=\"text-align: right;\">\n",
       "      <th></th>\n",
       "      <th>coefficient</th>\n",
       "      <th>p_value</th>\n",
       "    </tr>\n",
       "  </thead>\n",
       "  <tbody>\n",
       "    <tr>\n",
       "      <th>price</th>\n",
       "      <td>-17.291705</td>\n",
       "      <td>0.027880</td>\n",
       "    </tr>\n",
       "    <tr>\n",
       "      <th>ads</th>\n",
       "      <td>16.337767</td>\n",
       "      <td>0.436946</td>\n",
       "    </tr>\n",
       "    <tr>\n",
       "      <th>holiday</th>\n",
       "      <td>89.432562</td>\n",
       "      <td>0.000772</td>\n",
       "    </tr>\n",
       "    <tr>\n",
       "      <th>constant</th>\n",
       "      <td>415.098517</td>\n",
       "      <td>0.000153</td>\n",
       "    </tr>\n",
       "  </tbody>\n",
       "</table>\n",
       "</div>"
      ],
      "text/plain": [
       "          coefficient   p_value\n",
       "price      -17.291705  0.027880\n",
       "ads         16.337767  0.436946\n",
       "holiday     89.432562  0.000772\n",
       "constant   415.098517  0.000153"
      ]
     },
     "metadata": {},
     "output_type": "display_data"
    },
    {
     "data": {
      "image/png": "[encoded data removed]",
      "text/plain": [
       "<Figure size 1008x576 with 2 Axes>"
      ]
     },
     "metadata": {
      "needs_background": "light"
     },
     "output_type": "display_data"
    }
   ],
   "source": [
    "#Calling the function\n",
    "\n",
    "results_df = create_results_df(X_labels, coefficients, p_values)\n",
    "display(results_df)\n",
    "\n",
    "display_accuracy_chart(y_actual, y_pred, y_label, accuracy=(\"R-squared\", r2))"
   ]
  },
  {
   "cell_type": "code",
   "execution_count": null,
   "metadata": {},
   "outputs": [],
   "source": [
    "#Creating ad stock rate - a measurement of the advertising decay effect"
   ]
  },
  {
   "cell_type": "code",
   "execution_count": 57,
   "metadata": {},
   "outputs": [],
   "source": [
    "import statsmodels.tsa as tsa\n",
    "\n",
    "def add_adstocks(df:pd.DataFrame, column_label:str, adstock_rates:List[float]=None) -> List:\n",
    "    if adstock_rates is None:\n",
    "        adstock_rates = [round(i*0.1,1) for i in range(1,10)]\n",
    "\n",
    "    added_columns = list()\n",
    "    for ar in adstock_rates:\n",
    "        ar_column = f\"{column_label} AR={ar}\"\n",
    "        df[ar_column] = tsa.filters.filtertools.recursive_filter(df[column_label], ar)\n",
    "        added_columns.append(ar_column)\n",
    "    return added_columns"
   ]
  },
  {
   "cell_type": "code",
   "execution_count": 58,
   "metadata": {},
   "outputs": [
    {
     "data": {
      "text/html": [
       "<div>\n",
       "<style scoped>\n",
       "    .dataframe tbody tr th:only-of-type {\n",
       "        vertical-align: middle;\n",
       "    }\n",
       "\n",
       "    .dataframe tbody tr th {\n",
       "        vertical-align: top;\n",
       "    }\n",
       "\n",
       "    .dataframe thead th {\n",
       "        text-align: right;\n",
       "    }\n",
       "</style>\n",
       "<table border=\"1\" class=\"dataframe\">\n",
       "  <thead>\n",
       "    <tr style=\"text-align: right;\">\n",
       "      <th></th>\n",
       "      <th>sales</th>\n",
       "      <th>price</th>\n",
       "      <th>ads</th>\n",
       "      <th>holiday</th>\n",
       "      <th>constant</th>\n",
       "      <th>ads AR=0.15</th>\n",
       "    </tr>\n",
       "  </thead>\n",
       "  <tbody>\n",
       "    <tr>\n",
       "      <th>Week 1</th>\n",
       "      <td>350</td>\n",
       "      <td>5.5</td>\n",
       "      <td>3.3</td>\n",
       "      <td>0</td>\n",
       "      <td>1</td>\n",
       "      <td>3.300000</td>\n",
       "    </tr>\n",
       "    <tr>\n",
       "      <th>Week 2</th>\n",
       "      <td>460</td>\n",
       "      <td>7.5</td>\n",
       "      <td>3.3</td>\n",
       "      <td>1</td>\n",
       "      <td>1</td>\n",
       "      <td>3.795000</td>\n",
       "    </tr>\n",
       "    <tr>\n",
       "      <th>Week 3</th>\n",
       "      <td>350</td>\n",
       "      <td>8.0</td>\n",
       "      <td>3.0</td>\n",
       "      <td>0</td>\n",
       "      <td>1</td>\n",
       "      <td>3.569250</td>\n",
       "    </tr>\n",
       "    <tr>\n",
       "      <th>Week 4</th>\n",
       "      <td>430</td>\n",
       "      <td>8.0</td>\n",
       "      <td>4.5</td>\n",
       "      <td>1</td>\n",
       "      <td>1</td>\n",
       "      <td>5.035387</td>\n",
       "    </tr>\n",
       "    <tr>\n",
       "      <th>Week 5</th>\n",
       "      <td>350</td>\n",
       "      <td>6.8</td>\n",
       "      <td>3.0</td>\n",
       "      <td>0</td>\n",
       "      <td>1</td>\n",
       "      <td>3.755308</td>\n",
       "    </tr>\n",
       "  </tbody>\n",
       "</table>\n",
       "</div>"
      ],
      "text/plain": [
       "        sales  price  ads  holiday  constant  ads AR=0.15\n",
       "Week 1    350    5.5  3.3        0         1     3.300000\n",
       "Week 2    460    7.5  3.3        1         1     3.795000\n",
       "Week 3    350    8.0  3.0        0         1     3.569250\n",
       "Week 4    430    8.0  4.5        1         1     5.035387\n",
       "Week 5    350    6.8  3.0        0         1     3.755308"
      ]
     },
     "execution_count": 58,
     "metadata": {},
     "output_type": "execute_result"
    }
   ],
   "source": [
    "media_column = \"ads\"\n",
    "adstock_columns = add_adstocks(df, media_column, adstock_rates=[0.15])\n",
    "df.head()"
   ]
  },
  {
   "cell_type": "code",
   "execution_count": 59,
   "metadata": {},
   "outputs": [],
   "source": [
    "#Changing the X and Y variables and performing regression including the adstock variable\n",
    "\n",
    "def add_X_labels(X_labels, add_cols):\n",
    "    for x in add_cols:\n",
    "        if x not in X_labels:\n",
    "            X_labels.append(x)\n",
    "\n",
    "    return X_labels\n",
    "\n",
    "def del_X_labels(X_labels:List[str], del_cols:List[str]) -> List[str]:\n",
    "    for x in del_cols:\n",
    "        if x in X_labels:\n",
    "            X_labels.remove(x)\n",
    "\n",
    "    return X_labels"
   ]
  },
  {
   "cell_type": "code",
   "execution_count": 60,
   "metadata": {},
   "outputs": [
    {
     "data": {
      "text/plain": [
       "['price', 'holiday', 'constant', 'ads AR=0.15']"
      ]
     },
     "execution_count": 60,
     "metadata": {},
     "output_type": "execute_result"
    }
   ],
   "source": [
    "X_labels = del_X_labels(X_labels, [media_column])\n",
    "X_labels = add_X_labels(X_labels, adstock_columns)\n",
    "X_labels"
   ]
  },
  {
   "cell_type": "code",
   "execution_count": 61,
   "metadata": {},
   "outputs": [
    {
     "data": {
      "text/html": [
       "<div>\n",
       "<style scoped>\n",
       "    .dataframe tbody tr th:only-of-type {\n",
       "        vertical-align: middle;\n",
       "    }\n",
       "\n",
       "    .dataframe tbody tr th {\n",
       "        vertical-align: top;\n",
       "    }\n",
       "\n",
       "    .dataframe thead th {\n",
       "        text-align: right;\n",
       "    }\n",
       "</style>\n",
       "<table border=\"1\" class=\"dataframe\">\n",
       "  <thead>\n",
       "    <tr style=\"text-align: right;\">\n",
       "      <th></th>\n",
       "      <th>coefficient</th>\n",
       "      <th>p_value</th>\n",
       "    </tr>\n",
       "  </thead>\n",
       "  <tbody>\n",
       "    <tr>\n",
       "      <th>price</th>\n",
       "      <td>-17.710259</td>\n",
       "      <td>0.024434</td>\n",
       "    </tr>\n",
       "    <tr>\n",
       "      <th>holiday</th>\n",
       "      <td>87.418204</td>\n",
       "      <td>0.000883</td>\n",
       "    </tr>\n",
       "    <tr>\n",
       "      <th>constant</th>\n",
       "      <td>399.115569</td>\n",
       "      <td>0.000372</td>\n",
       "    </tr>\n",
       "    <tr>\n",
       "      <th>ads AR=0.15</th>\n",
       "      <td>18.877213</td>\n",
       "      <td>0.354514</td>\n",
       "    </tr>\n",
       "  </tbody>\n",
       "</table>\n",
       "</div>"
      ],
      "text/plain": [
       "             coefficient   p_value\n",
       "price         -17.710259  0.024434\n",
       "holiday        87.418204  0.000883\n",
       "constant      399.115569  0.000372\n",
       "ads AR=0.15    18.877213  0.354514"
      ]
     },
     "metadata": {},
     "output_type": "display_data"
    },
    {
     "data": {
      "image/png": "[encoded data removed]",
      "text/plain": [
       "<Figure size 1008x576 with 2 Axes>"
      ]
     },
     "metadata": {
      "needs_background": "light"
     },
     "output_type": "display_data"
    }
   ],
   "source": [
    "# Run model with adstocked ads\n",
    "\n",
    "y_actual, y_pred, coefficients, p_values = run_regression(df, y_label, X_labels)\n",
    "\n",
    "r2 = calculate_r2(y_actual, y_pred)\n",
    "\n",
    "results_df = create_results_df(X_labels, coefficients, p_values)\n",
    "display(results_df)\n",
    "\n",
    "display_accuracy_chart(y_actual, y_pred, y_label, accuracy=(\"R-squared\", r2))\n"
   ]
  },
  {
   "cell_type": "code",
   "execution_count": null,
   "metadata": {},
   "outputs": [],
   "source": [
    "#The r2 value is more when Ad stock is included in the model, thereby getting us a more accurate model. Using the Coefficents,intercept and X variables we will be able to predict the values of sales for the given X inputs"
   ]
  }
 ],
 "metadata": {
  "kernelspec": {
   "display_name": "Python 3",
   "language": "python",
   "name": "python3"
  },
  "language_info": {
   "codemirror_mode": {
    "name": "ipython",
    "version": 3
   },
   "file_extension": ".py",
   "mimetype": "text/x-python",
   "name": "python",
   "nbconvert_exporter": "python",
   "pygments_lexer": "ipython3",
   "version": "3.8.5"
  }
 },
 "nbformat": 4,
 "nbformat_minor": 4
}
